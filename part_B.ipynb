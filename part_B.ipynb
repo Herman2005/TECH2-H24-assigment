{
 "cells": [
  {
   "cell_type": "markdown",
   "metadata": {},
   "source": [
    "# TECH 2 mandatory assignment - Part B\n",
    "\n",
    "Write your solution for Part B in this notebook."
   ]
  },
  {
   "cell_type": "code",
   "execution_count": 131,
   "metadata": {},
   "outputs": [],
   "source": [
    "from part_A import std_builtin\n",
    "from part_A import std_loops\n",
    "from part_A import std_numpy\n"
   ]
  },
  {
   "cell_type": "code",
   "execution_count": 132,
   "metadata": {},
   "outputs": [],
   "source": [
    "import csv\n",
    "\n",
    "# Replace 'example.csv' with your actual file path\n",
    "file_name = 'data.csv'\n",
    "\n",
    "numbers = []\n",
    "\n",
    "with open(file_name, mode='r') as file:\n",
    "    csv_reader = csv.reader(file)\n",
    "    for row in csv_reader:\n",
    "          numbers.append(float(row[2]))\n",
    "\n",
    "\n",
    "\n",
    "first100 = numbers[:100]\n",
    "first1000 = numbers[:1000]\n",
    "first10000 = numbers"
   ]
  },
  {
   "cell_type": "code",
   "execution_count": null,
   "metadata": {},
   "outputs": [],
   "source": [
    "# Using the \"manual\" function\n",
    "\n",
    "diviationOfFirst100 = std_loops(first100)\n",
    "diviationOfFirst1000 = std_loops(first1000)\n",
    "diviationOfFirst10000 = std_loops(first10000)\n",
    "\n",
    "print(f\"Std (standar diviation) of the first 100 is: {diviationOfFirst100}, first 1000: {diviationOfFirst1000}, all: {diviationOfFirst10000}\")"
   ]
  },
  {
   "cell_type": "code",
   "execution_count": null,
   "metadata": {},
   "outputs": [],
   "source": [
    "# Using inbuilt function in python: \n",
    "diviationOfFirst100 = std_builtin(first100)\n",
    "diviationOfFirst1000 = std_builtin(first1000)\n",
    "diviationOfFirst10000 = std_builtin(first10000)\n",
    "\n",
    "print(f\"Std (standar diviation) of the first 100 is: {diviationOfFirst100}, first 1000: {diviationOfFirst1000}, all: {diviationOfFirst10000}\")"
   ]
  },
  {
   "cell_type": "code",
   "execution_count": null,
   "metadata": {},
   "outputs": [],
   "source": [
    "# Using std_numpy (uses only std() function from numpy)\n",
    "diviationOfFirst100 = std_numpy(first100)\n",
    "diviationOfFirst1000 = std_numpy(first1000)\n",
    "diviationOfFirst10000 = std_numpy(first10000)\n",
    "\n",
    "print(f\"Std (standar diviation) of the first 100 is: {diviationOfFirst100}, first 1000: {diviationOfFirst1000}, all: {diviationOfFirst10000}\")\n"
   ]
  },
  {
   "cell_type": "code",
   "execution_count": null,
   "metadata": {},
   "outputs": [],
   "source": [
    "#comparing for the first 100\n",
    "\n",
    "%timeit std_loops(first100)\n",
    "%timeit std_builtin(first100)\n",
    "%timeit std_numpy(first100)\n"
   ]
  },
  {
   "cell_type": "code",
   "execution_count": null,
   "metadata": {},
   "outputs": [],
   "source": [
    "#comparing for the first 1000\n",
    "\n",
    "%timeit std_loops(first1000)\n",
    "%timeit std_builtin(first1000)\n",
    "%timeit std_numpy(first1000)"
   ]
  },
  {
   "cell_type": "code",
   "execution_count": null,
   "metadata": {},
   "outputs": [],
   "source": [
    "#comparing for the first 10000\n",
    "\n",
    "%timeit std_loops(first10000)\n",
    "%timeit std_builtin(first10000)\n",
    "%timeit std_numpy(first10000)"
   ]
  }
 ],
 "metadata": {
  "kernelspec": {
   "display_name": "base",
   "language": "python",
   "name": "python3"
  },
  "language_info": {
   "codemirror_mode": {
    "name": "ipython",
    "version": 3
   },
   "file_extension": ".py",
   "mimetype": "text/x-python",
   "name": "python",
   "nbconvert_exporter": "python",
   "pygments_lexer": "ipython3",
   "version": "3.12.4"
  }
 },
 "nbformat": 4,
 "nbformat_minor": 2
}
