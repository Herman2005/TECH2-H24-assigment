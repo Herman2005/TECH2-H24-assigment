{
 "cells": [
  {
   "cell_type": "markdown",
   "metadata": {},
   "source": [
    "# TECH 2 mandatory assignment - Part B\n",
    "\n",
    "Write your solution for Part B in this notebook."
   ]
  },
  {
   "cell_type": "code",
   "execution_count": 2,
   "metadata": {},
   "outputs": [
    {
     "name": "stdout",
     "output_type": "stream",
     "text": [
      "True\n"
     ]
    }
   ],
   "source": [
    "from part_A import std_builtin, std_loops, std_numpy"
   ]
  },
  {
   "cell_type": "code",
   "execution_count": 3,
   "metadata": {},
   "outputs": [],
   "source": [
    "import csv\n",
    "\n",
    "# Replace 'example.csv' with your actual file path\n",
    "file_name = 'data.csv'\n",
    "\n",
    "numbers = []\n",
    "\n",
    "with open(file_name, mode='r') as file:\n",
    "    csv_reader = csv.reader(file)\n",
    "    for row in csv_reader:\n",
    "          numbers.append(float(row[2]))\n",
    "\n",
    "\n",
    "\n",
    "first100 = numbers[:100]\n",
    "first1000 = numbers[:1000]\n",
    "first10000 = numbers"
   ]
  },
  {
   "cell_type": "code",
   "execution_count": 4,
   "metadata": {},
   "outputs": [
    {
     "name": "stdout",
     "output_type": "stream",
     "text": [
      "Std (standar diviation) of the first 100 is: 0.2823721097353601, first 1000: 0.28467443283850546, all: 0.2854045269476155\n"
     ]
    }
   ],
   "source": [
    "# Using the \"manual\" function\n",
    "\n",
    "diviationOfFirst100 = std_loops(first100)\n",
    "diviationOfFirst1000 = std_loops(first1000)\n",
    "diviationOfFirst10000 = std_loops(first10000)\n",
    "\n",
    "print(f\"Std (standar diviation) of the first 100 is: {diviationOfFirst100}, first 1000: {diviationOfFirst1000}, all: {diviationOfFirst10000}\")"
   ]
  },
  {
   "cell_type": "code",
   "execution_count": 5,
   "metadata": {},
   "outputs": [
    {
     "name": "stdout",
     "output_type": "stream",
     "text": [
      "Std (standar diviation) of the first 100 is: 0.2823721097353601, first 1000: 0.2846744328385061, all: 0.28540452694761564\n"
     ]
    }
   ],
   "source": [
    "# Using inbuilt function in python: \n",
    "diviationOfFirst100 = std_builtin(first100)\n",
    "diviationOfFirst1000 = std_builtin(first1000)\n",
    "diviationOfFirst10000 = std_builtin(first10000)\n",
    "\n",
    "print(f\"Std (standar diviation) of the first 100 is: {diviationOfFirst100}, first 1000: {diviationOfFirst1000}, all: {diviationOfFirst10000}\")"
   ]
  },
  {
   "cell_type": "code",
   "execution_count": 6,
   "metadata": {},
   "outputs": [
    {
     "name": "stdout",
     "output_type": "stream",
     "text": [
      "Std (standar diviation) of the first 100 is: 0.28237210973536014, first 1000: 0.28467443283850596, all: 0.2854045269476156\n"
     ]
    }
   ],
   "source": [
    "# Using std_numpy (uses only std() function from numpy)\n",
    "diviationOfFirst100 = std_numpy(first100)\n",
    "diviationOfFirst1000 = std_numpy(first1000)\n",
    "diviationOfFirst10000 = std_numpy(first10000)\n",
    "\n",
    "print(f\"Std (standar diviation) of the first 100 is: {diviationOfFirst100}, first 1000: {diviationOfFirst1000}, all: {diviationOfFirst10000}\")\n"
   ]
  },
  {
   "cell_type": "code",
   "execution_count": 7,
   "metadata": {},
   "outputs": [
    {
     "name": "stdout",
     "output_type": "stream",
     "text": [
      "16 μs ± 235 ns per loop (mean ± std. dev. of 7 runs, 100,000 loops each)\n",
      "14.5 μs ± 368 ns per loop (mean ± std. dev. of 7 runs, 100,000 loops each)\n",
      "22.2 μs ± 1.22 μs per loop (mean ± std. dev. of 7 runs, 10,000 loops each)\n"
     ]
    }
   ],
   "source": [
    "#comparing for the first 100\n",
    "\n",
    "%timeit std_loops(first100)\n",
    "%timeit std_builtin(first100)\n",
    "%timeit std_numpy(first100)\n"
   ]
  },
  {
   "cell_type": "code",
   "execution_count": 8,
   "metadata": {},
   "outputs": [
    {
     "name": "stdout",
     "output_type": "stream",
     "text": [
      "161 μs ± 1.41 μs per loop (mean ± std. dev. of 7 runs, 10,000 loops each)\n",
      "136 μs ± 5.1 μs per loop (mean ± std. dev. of 7 runs, 10,000 loops each)\n",
      "56.9 μs ± 1.1 μs per loop (mean ± std. dev. of 7 runs, 10,000 loops each)\n"
     ]
    }
   ],
   "source": [
    "#comparing for the first 1000\n",
    "\n",
    "%timeit std_loops(first1000)\n",
    "%timeit std_builtin(first1000)\n",
    "%timeit std_numpy(first1000)"
   ]
  },
  {
   "cell_type": "code",
   "execution_count": 9,
   "metadata": {},
   "outputs": [
    {
     "name": "stdout",
     "output_type": "stream",
     "text": [
      "1.63 ms ± 34 μs per loop (mean ± std. dev. of 7 runs, 1,000 loops each)\n",
      "1.31 ms ± 48.2 μs per loop (mean ± std. dev. of 7 runs, 1,000 loops each)\n",
      "381 μs ± 9.35 μs per loop (mean ± std. dev. of 7 runs, 1,000 loops each)\n"
     ]
    }
   ],
   "source": [
    "#comparing for the first 10000\n",
    "\n",
    "%timeit std_loops(first10000)\n",
    "%timeit std_builtin(first10000)\n",
    "%timeit std_numpy(first10000)"
   ]
  }
 ],
 "metadata": {
  "kernelspec": {
   "display_name": "base",
   "language": "python",
   "name": "python3"
  },
  "language_info": {
   "codemirror_mode": {
    "name": "ipython",
    "version": 3
   },
   "file_extension": ".py",
   "mimetype": "text/x-python",
   "name": "python",
   "nbconvert_exporter": "python",
   "pygments_lexer": "ipython3",
   "version": "3.12.4"
  }
 },
 "nbformat": 4,
 "nbformat_minor": 2
}
