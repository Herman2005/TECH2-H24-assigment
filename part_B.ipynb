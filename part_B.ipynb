{
 "cells": [
  {
   "cell_type": "markdown",
   "metadata": {},
   "source": [
    "# TECH 2 mandatory assignment - Part B\n",
    "\n",
    "Write your solution for Part B in this notebook."
   ]
  },
  {
   "cell_type": "code",
   "execution_count": 14,
   "metadata": {},
   "outputs": [],
   "source": [
    "from part_A import std_builtin, std_loops, std_numpy"
   ]
  },
  {
   "cell_type": "code",
   "execution_count": 15,
   "metadata": {},
   "outputs": [],
   "source": [
    "# ----------------------------------- Functions ------------------------------------\n",
    "\n",
    "def addTolist(sequence,startindex,stopindex, lst): \n",
    "    \n",
    "    \"\"\"\n",
    "    Add a specific substring to a list \n",
    "    \n",
    "    Perameters\n",
    "    ---------------\n",
    "    sequence: Str\n",
    "       A string of 3 comma seperated numbers:str\n",
    "       \n",
    "    startindex: Int: \n",
    "       A number to determine the startindex for the part of sequence we want to add\n",
    "    \n",
    "    stopindex: int: \n",
    "       A number to determine the stopindex for the par of the sequece we want to add\n",
    "    \n",
    "    lst: List\n",
    "       A list we add the number found\n",
    "       \n",
    "    Returns: \n",
    "    -----------\n",
    "    \n",
    "    \"\"\"\n",
    "    # if the substring is something else than None we know it is a number, and we add the number at a flost to the list\n",
    "    if sequence[startindex:stopindex]:\n",
    "        lst.append(float(sequence[startindex:stopindex]))\n",
    "    return\n",
    "    \n",
    "\n",
    "\n",
    "def orginazeData(data): \n",
    "    \n",
    "   # lists for the numbers \n",
    "   firstC = []  # a list for storing the numbers in the first column\n",
    "   secondC = []  # a list for storing the numbers in the second column\n",
    "   thirdC = []  # a list for storing the numbers in the third column\n",
    "   \n",
    "   # ----------  a code block for allocate values in the different columns to their list above  ------------\n",
    "   \n",
    "   for line in data: # iterte through every line in the data file, which is the .csv file we want to iterate through \n",
    "    \n",
    " # ---- Code block to identify the place (number or None value (empty)) in the firt column ----   \n",
    " \n",
    "    # Determining the start and stop index for the part of the string which reperesent the first column\n",
    "    startindexC1 = 0   # startindex is 0\n",
    "    stopindexC1 = line.index(\",\")  #stop index is the first \",\"\n",
    "     \n",
    "    # Call function addToList which add a the numbers in first column to a list\n",
    "    addTolist(line, startindexC1, stopindexC1, firstC)\n",
    "       \n",
    "# --- Code block to identify the place (number or None value (empty)) in the second column ----    \n",
    "    startindexC2 = stopindexC1 + 1  #determine startindex for column 2, which is right after the first \",\"\n",
    "                                        \n",
    "    stopindexC2 = line.index(\",\", startindexC2)  # finding the stop index for column 2, which is the first \",\" after the absolute first \",\"\n",
    "    # Adding the number in the second column the list secondC \n",
    "    addTolist(line, startindexC2, stopindexC2, secondC)\n",
    "    \n",
    "# ---- Code block to identify the number (this is never None) in the third column ---- \n",
    "\n",
    "    # Determinigng the last startindex   \n",
    "    startindexC3 = stopindexC2 + 1\n",
    "    # We know that everything after the last column is something we want to append in thirdC\n",
    "    thirdC.append(float(line[startindexC3:]))\n",
    "        \n",
    "   return firstC, secondC, thirdC\n",
    "        \n",
    "\n",
    "def main(): \n",
    "    # an inbuilt funciong in python to open a csv.file\n",
    "    data = open(\"data.csv\") # \"r\" removed\n",
    "    return orginazeData(data)\n",
    "    \n",
    "\n",
    "\n",
    "# ---------------------------------------------- Main --------------------------------------------\n",
    "\n",
    "firstC, secondC, thirdC =main()"
   ]
  },
  {
   "cell_type": "code",
   "execution_count": 16,
   "metadata": {},
   "outputs": [
    {
     "name": "stdout",
     "output_type": "stream",
     "text": [
      "Std (standar diviation) of the first 100 is: 0.2823721097353601, first 1000: 0.28467443283850546, all: 0.2854045269476155\n"
     ]
    }
   ],
   "source": [
    "# Using the \"manual\" function\n",
    "\n",
    "diviationOfFirst100 = std_loops(firstC)\n",
    "diviationOfFirst1000 = std_loops(secondC)\n",
    "diviationOfFirst10000 = std_loops(thirdC)\n",
    "\n",
    "print(f\"Std (standar diviation) of the first 100 is: {diviationOfFirst100}, first 1000: {diviationOfFirst1000}, all: {diviationOfFirst10000}\")"
   ]
  },
  {
   "cell_type": "code",
   "execution_count": 17,
   "metadata": {},
   "outputs": [
    {
     "name": "stdout",
     "output_type": "stream",
     "text": [
      "Std (standar diviation) of the first 100 is: 0.2823721097353601, first 1000: 0.2846744328385061, all: 0.28540452694761564\n"
     ]
    }
   ],
   "source": [
    "# Using inbuilt function in python: \n",
    "diviationOfFirst100 = std_builtin(firstC)\n",
    "diviationOfFirst1000 = std_builtin(secondC)\n",
    "diviationOfFirst10000 = std_builtin(thirdC)\n",
    "\n",
    "print(f\"Std (standar diviation) of the first 100 is: {diviationOfFirst100}, first 1000: {diviationOfFirst1000}, all: {diviationOfFirst10000}\")"
   ]
  },
  {
   "cell_type": "code",
   "execution_count": 18,
   "metadata": {},
   "outputs": [
    {
     "name": "stdout",
     "output_type": "stream",
     "text": [
      "Std (standar diviation) of the first 100 is: 0.28237210973536014, first 1000: 0.28467443283850596, all: 0.2854045269476156\n"
     ]
    }
   ],
   "source": [
    "# Using std_numpy (uses only std() function from numpy)\n",
    "diviationOfFirst100 = std_numpy(firstC)\n",
    "diviationOfFirst1000 = std_numpy(secondC)\n",
    "diviationOfFirst10000 = std_numpy(thirdC)\n",
    "\n",
    "print(f\"Std (standar diviation) of the first 100 is: {diviationOfFirst100}, first 1000: {diviationOfFirst1000}, all: {diviationOfFirst10000}\")\n"
   ]
  },
  {
   "cell_type": "code",
   "execution_count": 19,
   "metadata": {},
   "outputs": [
    {
     "name": "stdout",
     "output_type": "stream",
     "text": [
      "14.2 μs ± 142 ns per loop (mean ± std. dev. of 7 runs, 100,000 loops each)\n",
      "122 μs ± 416 ns per loop (mean ± std. dev. of 7 runs, 10,000 loops each)\n",
      "359 μs ± 3.83 μs per loop (mean ± std. dev. of 7 runs, 1,000 loops each)\n"
     ]
    }
   ],
   "source": [
    "#comparing for the first 100\n",
    "\n",
    "%timeit std_loops(firstC)\n",
    "%timeit std_builtin(secondC)\n",
    "%timeit std_numpy(thirdC)\n"
   ]
  },
  {
   "cell_type": "code",
   "execution_count": 20,
   "metadata": {},
   "outputs": [
    {
     "name": "stdout",
     "output_type": "stream",
     "text": [
      "14 μs ± 81.7 ns per loop (mean ± std. dev. of 7 runs, 100,000 loops each)\n",
      "124 μs ± 3.41 μs per loop (mean ± std. dev. of 7 runs, 10,000 loops each)\n",
      "363 μs ± 10.5 μs per loop (mean ± std. dev. of 7 runs, 1,000 loops each)\n"
     ]
    }
   ],
   "source": [
    "#comparing for the first 1000\n",
    "\n",
    "%timeit std_loops(firstC)\n",
    "%timeit std_builtin(secondC)\n",
    "%timeit std_numpy(thirdC)"
   ]
  },
  {
   "cell_type": "code",
   "execution_count": 21,
   "metadata": {},
   "outputs": [
    {
     "name": "stdout",
     "output_type": "stream",
     "text": [
      "14.2 μs ± 302 ns per loop (mean ± std. dev. of 7 runs, 100,000 loops each)\n",
      "122 μs ± 326 ns per loop (mean ± std. dev. of 7 runs, 10,000 loops each)\n",
      "367 μs ± 23.2 μs per loop (mean ± std. dev. of 7 runs, 1,000 loops each)\n"
     ]
    }
   ],
   "source": [
    "#comparing for the first 10000\n",
    "\n",
    "%timeit std_loops(firstC)\n",
    "%timeit std_builtin(secondC)\n",
    "%timeit std_numpy(thirdC)"
   ]
  }
 ],
 "metadata": {
  "kernelspec": {
   "display_name": "base",
   "language": "python",
   "name": "python3"
  },
  "language_info": {
   "codemirror_mode": {
    "name": "ipython",
    "version": 3
   },
   "file_extension": ".py",
   "mimetype": "text/x-python",
   "name": "python",
   "nbconvert_exporter": "python",
   "pygments_lexer": "ipython3",
   "version": "3.12.4"
  }
 },
 "nbformat": 4,
 "nbformat_minor": 2
}
