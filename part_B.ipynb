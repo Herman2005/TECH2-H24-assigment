{
 "cells": [
  {
   "cell_type": "markdown",
   "metadata": {},
   "source": [
    "# TECH 2 mandatory assignment - Part B\n",
    "\n",
    "Write your solution for Part B in this notebook."
   ]
  },
  {
   "cell_type": "code",
   "execution_count": 50,
   "metadata": {},
   "outputs": [],
   "source": [
    "from part_A import std_builtin, std_loops, std_numpy"
   ]
  },
  {
   "cell_type": "code",
   "execution_count": 51,
   "metadata": {},
   "outputs": [],
   "source": [
    "# ----------------------------------- Functions ------------------------------------\n",
    "\n",
    "def addTolist(sequence,startindex,stopindex, lst): \n",
    "    \n",
    "    \"\"\"\n",
    "    Add a specific substring to a list \n",
    "    \n",
    "    Perameters\n",
    "    ---------------\n",
    "    sequence: Str\n",
    "       A string of 3 comma seperated numbers:str\n",
    "       \n",
    "    startindex: Int: \n",
    "       A number to determine the startindex for the part of sequence we want to add\n",
    "    \n",
    "    stopindex: int: \n",
    "       A number to determine the stopindex for the par of the sequece we want to add\n",
    "    \n",
    "    lst: List\n",
    "       A list we add the number found\n",
    "       \n",
    "    Returns: \n",
    "    -----------\n",
    "    \n",
    "    \"\"\"\n",
    "    # if the substring is something else than None we know it is a number, and we add the number at a flost to the list\n",
    "    if sequence[startindex:stopindex]:\n",
    "        lst.append(float(sequence[startindex:stopindex]))\n",
    "    return\n",
    "    \n",
    "\n",
    "\n",
    "def orginazeData(data): \n",
    "    \n",
    "   # lists for the numbers \n",
    "   firstC = []  # a list for storing the numbers in the first column\n",
    "   secondC = []  # a list for storing the numbers in the second column\n",
    "   thirdC = []  # a list for storing the numbers in the third column\n",
    "   \n",
    "   # ----------  a code block for allocate values in the different columns to their list above  ------------\n",
    "   \n",
    "   for line in data: # iterte through every line in the data file, which is the .csv file we want to iterate through \n",
    "    \n",
    " # ---- Code block to identify the place (number or None value (empty)) in the firt column ----   \n",
    " \n",
    "    # Determining the start and stop index for the part of the string which reperesent the first column\n",
    "    startindexC1 = 0   # startindex is 0\n",
    "    stopindexC1 = line.index(\",\")  #stop index is the first \",\"\n",
    "     \n",
    "    # Call function addToList which add a the numbers in first column to a list\n",
    "    addTolist(line, startindexC1, stopindexC1, firstC)\n",
    "       \n",
    "# --- Code block to identify the place (number or None value (empty)) in the second column ----    \n",
    "    startindexC2 = stopindexC1 + 1  #determine startindex for column 2, which is right after the first \",\"\n",
    "                                        \n",
    "    stopindexC2 = line.index(\",\", startindexC2)  # finding the stop index for column 2, which is the first \",\" after the absolute first \",\"\n",
    "    # Adding the number in the second column the list secondC \n",
    "    addTolist(line, startindexC2, stopindexC2, secondC)\n",
    "    \n",
    "# ---- Code block to identify the number (this is never None) in the third column ---- \n",
    "\n",
    "    # Determinigng the last startindex   \n",
    "    startindexC3 = stopindexC2 + 1\n",
    "    # We know that everything after the last column is something we want to append in thirdC\n",
    "    thirdC.append(float(line[startindexC3:]))\n",
    "        \n",
    "   return firstC, secondC, thirdC\n",
    "        \n",
    "\n",
    "def main(): \n",
    "    # an inbuilt funciong in python to open a csv.file\n",
    "    data = open(\"data.csv\") # \"r\" removed\n",
    "    return orginazeData(data)\n",
    "    \n",
    "\n",
    "\n",
    "# ---------------------------------------------- Main --------------------------------------------\n",
    "\n",
    "firstC, secondC, thirdC =main()"
   ]
  },
  {
   "cell_type": "code",
   "execution_count": 52,
   "metadata": {},
   "outputs": [
    {
     "name": "stdout",
     "output_type": "stream",
     "text": [
      "Std (standar diviation) of the first 100 is: 0.2823721097353601, first 1000: 0.28467443283850546, all: 0.2854045269476155\n"
     ]
    }
   ],
   "source": [
    "# Using the \"manual\" function\n",
    "\n",
    "diviationOfFirst100 = std_loops(firstC)\n",
    "diviationOfFirst1000 = std_loops(secondC)\n",
    "diviationOfFirst10000 = std_loops(thirdC)\n",
    "\n",
    "print(f\"Std (standar diviation) of the first 100 is: {diviationOfFirst100}, first 1000: {diviationOfFirst1000}, all: {diviationOfFirst10000}\")"
   ]
  },
  {
   "cell_type": "code",
   "execution_count": 53,
   "metadata": {},
   "outputs": [
    {
     "name": "stdout",
     "output_type": "stream",
     "text": [
      "Std (standar diviation) of the first 100 is: 0.2823721097353601, first 1000: 0.2846744328385061, all: 0.28540452694761564\n"
     ]
    }
   ],
   "source": [
    "# Using inbuilt function in python: \n",
    "diviationOfFirst100 = std_builtin(firstC)\n",
    "diviationOfFirst1000 = std_builtin(secondC)\n",
    "diviationOfFirst10000 = std_builtin(thirdC)\n",
    "\n",
    "print(f\"Std (standar diviation) of the first 100 is: {diviationOfFirst100}, first 1000: {diviationOfFirst1000}, all: {diviationOfFirst10000}\")"
   ]
  },
  {
   "cell_type": "code",
   "execution_count": 54,
   "metadata": {},
   "outputs": [
    {
     "name": "stdout",
     "output_type": "stream",
     "text": [
      "Std (standar diviation) of the first 100 is: 0.2823721097353601, first 1000: 0.28467443283850596, all: 0.2854045269476156\n"
     ]
    }
   ],
   "source": [
    "# Using std_numpy (uses only std() function from numpy)\n",
    "diviationOfFirst10 = std_numpy(firstC)\n",
    "diviationOfFirst1000 = std_numpy(secondC)\n",
    "diviationOfFirst10000 = std_numpy(thirdC)\n",
    "\n",
    "print(f\"Std (standar diviation) of the first 100 is: {diviationOfFirst100}, first 1000: {diviationOfFirst1000}, all: {diviationOfFirst10000}\")\n"
   ]
  },
  {
   "cell_type": "code",
   "execution_count": 55,
   "metadata": {},
   "outputs": [
    {
     "name": "stdout",
     "output_type": "stream",
     "text": [
      "15.4 μs ± 201 ns per loop (mean ± std. dev. of 7 runs, 100,000 loops each)\n",
      "13.6 μs ± 212 ns per loop (mean ± std. dev. of 7 runs, 100,000 loops each)\n",
      "21.3 μs ± 316 ns per loop (mean ± std. dev. of 7 runs, 10,000 loops each)\n"
     ]
    }
   ],
   "source": [
    "#comparing for the first 100\n",
    "\n",
    "%timeit std_loops(firstC)\n",
    "%timeit std_builtin(firstC)\n",
    "%timeit std_numpy(firstC)\n"
   ]
  },
  {
   "cell_type": "code",
   "execution_count": 56,
   "metadata": {},
   "outputs": [
    {
     "name": "stdout",
     "output_type": "stream",
     "text": [
      "164 μs ± 1.08 μs per loop (mean ± std. dev. of 7 runs, 10,000 loops each)\n",
      "138 μs ± 1.76 μs per loop (mean ± std. dev. of 7 runs, 10,000 loops each)\n",
      "59.8 μs ± 1.1 μs per loop (mean ± std. dev. of 7 runs, 10,000 loops each)\n"
     ]
    }
   ],
   "source": [
    "#comparing for the first 1000\n",
    "\n",
    "%timeit std_loops(secondC)\n",
    "%timeit std_builtin(secondC)\n",
    "%timeit std_numpy(secondC)"
   ]
  },
  {
   "cell_type": "code",
   "execution_count": 57,
   "metadata": {},
   "outputs": [
    {
     "name": "stdout",
     "output_type": "stream",
     "text": [
      "1.66 ms ± 12 μs per loop (mean ± std. dev. of 7 runs, 1,000 loops each)\n"
     ]
    },
    {
     "ename": "NameError",
     "evalue": "name 'thirdsC' is not defined",
     "output_type": "error",
     "traceback": [
      "\u001b[1;31m---------------------------------------------------------------------------\u001b[0m",
      "\u001b[1;31mNameError\u001b[0m                                 Traceback (most recent call last)",
      "Cell \u001b[1;32mIn[57], line 4\u001b[0m\n\u001b[0;32m      1\u001b[0m \u001b[38;5;66;03m#comparing for the first 10000\u001b[39;00m\n\u001b[0;32m      3\u001b[0m get_ipython()\u001b[38;5;241m.\u001b[39mrun_line_magic(\u001b[38;5;124m'\u001b[39m\u001b[38;5;124mtimeit\u001b[39m\u001b[38;5;124m'\u001b[39m, \u001b[38;5;124m'\u001b[39m\u001b[38;5;124mstd_loops(thirdC)\u001b[39m\u001b[38;5;124m'\u001b[39m)\n\u001b[1;32m----> 4\u001b[0m get_ipython()\u001b[38;5;241m.\u001b[39mrun_line_magic(\u001b[38;5;124m'\u001b[39m\u001b[38;5;124mtimeit\u001b[39m\u001b[38;5;124m'\u001b[39m, \u001b[38;5;124m'\u001b[39m\u001b[38;5;124mstd_builtin(thirdsC)\u001b[39m\u001b[38;5;124m'\u001b[39m)\n\u001b[0;32m      5\u001b[0m get_ipython()\u001b[38;5;241m.\u001b[39mrun_line_magic(\u001b[38;5;124m'\u001b[39m\u001b[38;5;124mtimeit\u001b[39m\u001b[38;5;124m'\u001b[39m, \u001b[38;5;124m'\u001b[39m\u001b[38;5;124mstd_numpy(thirdC)\u001b[39m\u001b[38;5;124m'\u001b[39m)\n",
      "File \u001b[1;32mc:\\Users\\Herman05\\anaconda3\\Lib\\site-packages\\IPython\\core\\interactiveshell.py:2480\u001b[0m, in \u001b[0;36mInteractiveShell.run_line_magic\u001b[1;34m(self, magic_name, line, _stack_depth)\u001b[0m\n\u001b[0;32m   2478\u001b[0m     kwargs[\u001b[38;5;124m'\u001b[39m\u001b[38;5;124mlocal_ns\u001b[39m\u001b[38;5;124m'\u001b[39m] \u001b[38;5;241m=\u001b[39m \u001b[38;5;28mself\u001b[39m\u001b[38;5;241m.\u001b[39mget_local_scope(stack_depth)\n\u001b[0;32m   2479\u001b[0m \u001b[38;5;28;01mwith\u001b[39;00m \u001b[38;5;28mself\u001b[39m\u001b[38;5;241m.\u001b[39mbuiltin_trap:\n\u001b[1;32m-> 2480\u001b[0m     result \u001b[38;5;241m=\u001b[39m fn(\u001b[38;5;241m*\u001b[39margs, \u001b[38;5;241m*\u001b[39m\u001b[38;5;241m*\u001b[39mkwargs)\n\u001b[0;32m   2482\u001b[0m \u001b[38;5;66;03m# The code below prevents the output from being displayed\u001b[39;00m\n\u001b[0;32m   2483\u001b[0m \u001b[38;5;66;03m# when using magics with decorator @output_can_be_silenced\u001b[39;00m\n\u001b[0;32m   2484\u001b[0m \u001b[38;5;66;03m# when the last Python token in the expression is a ';'.\u001b[39;00m\n\u001b[0;32m   2485\u001b[0m \u001b[38;5;28;01mif\u001b[39;00m \u001b[38;5;28mgetattr\u001b[39m(fn, magic\u001b[38;5;241m.\u001b[39mMAGIC_OUTPUT_CAN_BE_SILENCED, \u001b[38;5;28;01mFalse\u001b[39;00m):\n",
      "File \u001b[1;32mc:\\Users\\Herman05\\anaconda3\\Lib\\site-packages\\IPython\\core\\magics\\execution.py:1185\u001b[0m, in \u001b[0;36mExecutionMagics.timeit\u001b[1;34m(self, line, cell, local_ns)\u001b[0m\n\u001b[0;32m   1183\u001b[0m \u001b[38;5;28;01mfor\u001b[39;00m index \u001b[38;5;129;01min\u001b[39;00m \u001b[38;5;28mrange\u001b[39m(\u001b[38;5;241m0\u001b[39m, \u001b[38;5;241m10\u001b[39m):\n\u001b[0;32m   1184\u001b[0m     number \u001b[38;5;241m=\u001b[39m \u001b[38;5;241m10\u001b[39m \u001b[38;5;241m*\u001b[39m\u001b[38;5;241m*\u001b[39m index\n\u001b[1;32m-> 1185\u001b[0m     time_number \u001b[38;5;241m=\u001b[39m timer\u001b[38;5;241m.\u001b[39mtimeit(number)\n\u001b[0;32m   1186\u001b[0m     \u001b[38;5;28;01mif\u001b[39;00m time_number \u001b[38;5;241m>\u001b[39m\u001b[38;5;241m=\u001b[39m \u001b[38;5;241m0.2\u001b[39m:\n\u001b[0;32m   1187\u001b[0m         \u001b[38;5;28;01mbreak\u001b[39;00m\n",
      "File \u001b[1;32mc:\\Users\\Herman05\\anaconda3\\Lib\\site-packages\\IPython\\core\\magics\\execution.py:173\u001b[0m, in \u001b[0;36mTimer.timeit\u001b[1;34m(self, number)\u001b[0m\n\u001b[0;32m    171\u001b[0m gc\u001b[38;5;241m.\u001b[39mdisable()\n\u001b[0;32m    172\u001b[0m \u001b[38;5;28;01mtry\u001b[39;00m:\n\u001b[1;32m--> 173\u001b[0m     timing \u001b[38;5;241m=\u001b[39m \u001b[38;5;28mself\u001b[39m\u001b[38;5;241m.\u001b[39minner(it, \u001b[38;5;28mself\u001b[39m\u001b[38;5;241m.\u001b[39mtimer)\n\u001b[0;32m    174\u001b[0m \u001b[38;5;28;01mfinally\u001b[39;00m:\n\u001b[0;32m    175\u001b[0m     \u001b[38;5;28;01mif\u001b[39;00m gcold:\n",
      "File \u001b[1;32m<magic-timeit>:1\u001b[0m, in \u001b[0;36minner\u001b[1;34m(_it, _timer)\u001b[0m\n",
      "\u001b[1;31mNameError\u001b[0m: name 'thirdsC' is not defined"
     ]
    }
   ],
   "source": [
    "#comparing for the first 10000\n",
    "\n",
    "%timeit std_loops(thirdC)\n",
    "%timeit std_builtin(thirdC)\n",
    "%timeit std_numpy(thirdC)"
   ]
  }
 ],
 "metadata": {
  "kernelspec": {
   "display_name": "base",
   "language": "python",
   "name": "python3"
  },
  "language_info": {
   "codemirror_mode": {
    "name": "ipython",
    "version": 3
   },
   "file_extension": ".py",
   "mimetype": "text/x-python",
   "name": "python",
   "nbconvert_exporter": "python",
   "pygments_lexer": "ipython3",
   "version": "3.12.4"
  }
 },
 "nbformat": 4,
 "nbformat_minor": 2
}
